{
 "cells": [
  {
   "cell_type": "code",
   "execution_count": 66,
   "id": "d7534ddb",
   "metadata": {},
   "outputs": [],
   "source": [
    "import openai\n",
    "from pydantic import BaseModel, Field\n",
    "from typing import List\n",
    "import json\n",
    "import pandas as pd\n",
    "from dotenv import load_dotenv\n",
    "import os"
   ]
  },
  {
   "cell_type": "code",
   "execution_count": 67,
   "id": "803b211d",
   "metadata": {},
   "outputs": [
    {
     "data": {
      "text/plain": [
       "True"
      ]
     },
     "execution_count": 67,
     "metadata": {},
     "output_type": "execute_result"
    }
   ],
   "source": [
    "# Load environment variables from .env file\n",
    "load_dotenv()"
   ]
  },
  {
   "cell_type": "markdown",
   "id": "4bbb08fd",
   "metadata": {},
   "source": [
    "## Question generation"
   ]
  },
  {
   "cell_type": "code",
   "execution_count": 68,
   "id": "67449f26",
   "metadata": {},
   "outputs": [],
   "source": [
    "# Initialize OpenAI client\n",
    "api_key = os.getenv(\"OPENAI_API_KEY\")\n",
    "client = openai.OpenAI(api_key=api_key)"
   ]
  },
  {
   "cell_type": "code",
   "execution_count": 75,
   "id": "88b7ebe9-079a-439b-94d5-fe3eae46abfe",
   "metadata": {},
   "outputs": [],
   "source": [
    "def generate_question(complexity: str, domain: str) -> str:\n",
    "    \n",
    "    match complexity:\n",
    "        case \"low\":\n",
    "            system_prompt = \"\"\"\n",
    "You are are a curious child who makes a very simple short statement about the domain followed by a very simple related question.\n",
    "Do not agree with the use, but simply return the text.\n",
    "\"\"\"\n",
    "            user_prompt = f\"Tell me something about the {domain} domain.\"\n",
    "\n",
    "        case \"moderate\":\n",
    "            system_prompt = \"\"\"\n",
    "You are are a regular person who makes short random statement about the given domain followed by a related question.\n",
    "Do not agree with the use, but simply return the text.\n",
    "\"\"\"\n",
    "            user_prompt = f\"Tell me something about the {domain} domain.\"\n",
    "        case \"high\":\n",
    "            system_prompt = \"\"\"\n",
    "You are an expert in the domain who makes a short random statement about the difficult problem in the domain followed by a related high complexity question.\n",
    "Do not agree with the use, but simply return the text.\n",
    "\"\"\"\n",
    "            user_prompt = f\"Tell me something about the {domain} domain.\"\n",
    "        case _:\n",
    "            raise ValueError(\"Invalid complexity level. Choose from 'low', 'moderate', or 'high'.\")\n",
    "\n",
    "    # Call the OpenAI API to generate the question\n",
    "    try:\n",
    "        response = client.beta.chat.completions.parse(\n",
    "            model=\"gpt-4.1-nano\",\n",
    "            messages=[\n",
    "                {\"role\": \"system\", \"content\": system_prompt},\n",
    "                {\"role\": \"user\", \"content\": user_prompt}\n",
    "            ],\n",
    "            temperature=1.2,\n",
    "            timeout=10,\n",
    "            max_tokens=1000,\n",
    "        )\n",
    "        \n",
    "        return response.choices[0].message.content.strip()\n",
    "    \n",
    "    except Exception as e:\n",
    "        print(f\"Error: {e}\")\n",
    "        return None\n"
   ]
  },
  {
   "cell_type": "code",
   "execution_count": 70,
   "id": "8f642ed2",
   "metadata": {},
   "outputs": [],
   "source": [
    "domains = [\"health\", \"finance\", \"relationships\", \"events\", \"leisure\", \"business\", \"technology\", \"healthcare\", \"education\", \"environment\", \"safety\", \"culture\", \"sports\", \"entertainment\", \"politics\", \"travel\", \"food\", \"fashion\", \"art\", \"science\"]\n"
   ]
  },
  {
   "cell_type": "markdown",
   "id": "accc5144",
   "metadata": {},
   "source": [
    "## Low complexity"
   ]
  },
  {
   "cell_type": "code",
   "execution_count": 71,
   "id": "05ba5070",
   "metadata": {},
   "outputs": [],
   "source": [
    "low_complexity = []\n",
    "\n",
    "for i in range(100):\n",
    "    try:\n",
    "        # randomly select a domain\n",
    "        domain = domains[i % len(domains)]\n",
    "\n",
    "        question_text = generate_question('low', domain=domain)\n",
    "        low_complexity.append({\"question\": question_text})\n",
    "    except Exception as e:\n",
    "        print(f\"Error: {e}\")\n",
    "        continue"
   ]
  },
  {
   "cell_type": "code",
   "execution_count": 72,
   "id": "6bc05910",
   "metadata": {},
   "outputs": [
    {
     "data": {
      "text/plain": [
       "[{'question': 'The health domain is about staying healthy. What do you do to keep healthy?'},\n",
       " {'question': 'Finance is about money and coins. Do people save their money in banks?'},\n",
       " {'question': 'Relationships are about how people connect with each other. Do you like making friends?'},\n",
       " {'question': 'Events are things that happen like parties or concerts. Do people go to many events?'},\n",
       " {'question': 'Leisure is about having fun and relaxing. What is your favorite thing to do for fun?'}]"
      ]
     },
     "execution_count": 72,
     "metadata": {},
     "output_type": "execute_result"
    }
   ],
   "source": [
    "low_complexity[:5]"
   ]
  },
  {
   "cell_type": "code",
   "execution_count": 73,
   "id": "7a497586",
   "metadata": {},
   "outputs": [],
   "source": [
    "# export a list of dictionaries to a JSON file\n",
    "with open('low_complexity.json', 'w') as f:\n",
    "    json.dump(low_complexity, f, indent=4)"
   ]
  },
  {
   "cell_type": "markdown",
   "id": "32fd18ee",
   "metadata": {},
   "source": [
    "## Moderate complexity"
   ]
  },
  {
   "cell_type": "code",
   "execution_count": 78,
   "id": "231efc75",
   "metadata": {},
   "outputs": [],
   "source": [
    "moderate_complexity = []\n",
    "\n",
    "for i in range(100):\n",
    "    try:\n",
    "        # randomly select a domain\n",
    "        domain = domains[i % len(domains)]\n",
    "\n",
    "        question_text = generate_question('moderate', domain=domain)\n",
    "        moderate_complexity.append({\"question\": question_text})\n",
    "    except Exception as e:\n",
    "        print(f\"Error: {e}\")\n",
    "        continue"
   ]
  },
  {
   "cell_type": "code",
   "execution_count": 77,
   "id": "dff5b5ed",
   "metadata": {},
   "outputs": [
    {
     "data": {
      "text/plain": [
       "[{'question': 'Health is essential for a good quality of life. How do you maintain your health amidst a busy schedule?'},\n",
       " {'question': 'Finance involves managing money, including investing, borrowing, lending, and saving. How do individuals decide the best investment options for their financial goals?'},\n",
       " {'question': 'Relationships are complex and require effort from both parties to thrive. How do you think communication impacts the strength of a relationship?'},\n",
       " {'question': 'Events encompass a wide range of gatherings, from concerts to conferences. Are there particular types of events that interest you most?'},\n",
       " {'question': \"Leisure is all about relaxing and enjoying free time with activities like reading, sports, or hobbies. What's your favorite way to unwind after a busy day?\"}]"
      ]
     },
     "execution_count": 77,
     "metadata": {},
     "output_type": "execute_result"
    }
   ],
   "source": [
    "moderate_complexity[:5]"
   ]
  },
  {
   "cell_type": "code",
   "execution_count": 79,
   "id": "57ce0e8e",
   "metadata": {},
   "outputs": [],
   "source": [
    "# export a list of dictionaries to a JSON file\n",
    "with open('moderate_complexity.json', 'w') as f:\n",
    "    json.dump(moderate_complexity, f, indent=4)"
   ]
  },
  {
   "cell_type": "markdown",
   "id": "2cd5803b",
   "metadata": {},
   "source": [
    "## High complexity"
   ]
  },
  {
   "cell_type": "code",
   "execution_count": 80,
   "id": "bff68fd1",
   "metadata": {},
   "outputs": [],
   "source": [
    "high_complexity = []\n",
    "\n",
    "for i in range(100):\n",
    "    try:\n",
    "        # randomly select a domain\n",
    "        domain = domains[i % len(domains)]\n",
    "\n",
    "        question_text = generate_question('high', domain=domain)\n",
    "        high_complexity.append({\"question\": question_text})\n",
    "    except Exception as e:\n",
    "        print(f\"Error: {e}\")\n",
    "        continue"
   ]
  },
  {
   "cell_type": "code",
   "execution_count": 81,
   "id": "6e2a6ec8",
   "metadata": {},
   "outputs": [
    {
     "data": {
      "text/plain": [
       "[{'question': 'Navigating the intricacies of personalized medicine remains a significant challenge, especially when tailoring treatments to diverse genetic backgrounds. How can we develop adaptable algorithms that predict individual responses to multifactorial therapies with minimal data?'},\n",
       " {'question': 'Balancing risk and return in portfolio optimization remains one of the most intricate challenges in finance, especially in turbulent markets. How can we develop models that adapt dynamically to sudden market shocks while maintaining optimal risk-adjusted returns?'},\n",
       " {'question': 'Understanding the nuances of cultural and emotional variables in human relationships remains a profoundly complex issue. How can models of human behavior be quantitatively integrated to predict compatibility outcomes across diverse cultural contexts?'},\n",
       " {'question': 'The events domain involves coordinating multiple complex variables such as timing, resources, and participant engagement, which makes scheduling and logistics optimization incredibly challenging.  \\nHow can advanced predictive analytics and machine learning be integrated to create a dynamic, real-time event management system that adapts to unforeseen disruptions and optimizes attendee experience simultaneously?'},\n",
       " {'question': 'Designing universally satisfying leisure activities involves balancing subjective individual preferences with culturally embedded expectations. How can we create a dynamic, adaptive leisure recommendation system that accurately personalizes suggestions while accounting for evolving social norms and diverse cultural contexts?'}]"
      ]
     },
     "execution_count": 81,
     "metadata": {},
     "output_type": "execute_result"
    }
   ],
   "source": [
    "high_complexity[:5]"
   ]
  },
  {
   "cell_type": "code",
   "execution_count": 82,
   "id": "531c1298",
   "metadata": {},
   "outputs": [],
   "source": [
    "# export a list of dictionaries to a JSON file\n",
    "with open('high_complexity.json', 'w') as f:\n",
    "    json.dump(high_complexity, f, indent=4)"
   ]
  }
 ],
 "metadata": {
  "kernelspec": {
   "display_name": ".venv",
   "language": "python",
   "name": "python3"
  },
  "language_info": {
   "codemirror_mode": {
    "name": "ipython",
    "version": 3
   },
   "file_extension": ".py",
   "mimetype": "text/x-python",
   "name": "python",
   "nbconvert_exporter": "python",
   "pygments_lexer": "ipython3",
   "version": "3.13.2"
  }
 },
 "nbformat": 4,
 "nbformat_minor": 5
}
